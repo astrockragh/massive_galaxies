{
 "cells": [
  {
   "cell_type": "code",
   "execution_count": 1,
   "id": "d1764eef",
   "metadata": {
    "ExecuteTime": {
     "end_time": "2023-05-05T03:48:39.241603Z",
     "start_time": "2023-05-05T03:46:43.245186Z"
    }
   },
   "outputs": [
    {
     "name": "stdout",
     "output_type": "stream",
     "text": [
      "7.5 1 0.04318674483289608 0.7280791376599799 0.7280791376599799 0.7280791376599799 0.7280791376599799 0.8437537320033495 1.6522555622506747 1.6857392935200686 2.802988786817139 3.688014617977402\n",
      "8 1 0.04234159537519055 0.8208045571519014 0.8208045571519014 0.8208045571519014 0.8208045571519014 0.951697675142553 1.9320642417241136 1.9598210985054678 3.287060603493291 4.254363322522695\n",
      "Saving dataframes of values to dfs/JWST\n",
      "  zmid dz     cv_dm     cv_70     cv_75     cv_80     cv_85     cv_90  \\\n",
      "0  7.5  1  0.043187  0.728079  0.728079  0.728079  0.728079  0.843754   \n",
      "1    8  1  0.042342  0.820805  0.820805  0.820805  0.820805  0.951698   \n",
      "\n",
      "      cv_95    cv_100    cv_105    cv_110  \n",
      "0  1.652256  1.685739  2.802989  3.688015  \n",
      "1  1.932064  1.959821  3.287061  4.254363  \n"
     ]
    }
   ],
   "source": [
    "import cosmic_variance as cv #https://pypi.org/project/cosmic-variance/, pip install cosmic-variance\n",
    "import numpy as np\n",
    "# use the main function, get_cv to calculate\n",
    "# cosmic variance for a single JWST pointing\n",
    "\n",
    "#### these arguments are required ####\n",
    "side1 = 2.2/60. # /60 to convert from arcmin to degrees\n",
    "side2 = 2*2.2/60. # /60 to convert from arcmin to degrees\n",
    "zarray = np.array([7,8,11]) # redshift bin edges\n",
    "\n",
    "#### these arguments are optional ####\n",
    "name = 'JWST' # name of the survey, if provided, the output file will be saved as dfs/{name}.csv along with a meta file\n",
    "acc = 'low' # accuracy of the calculation, 'low' or 'high, low is default, faster and sufficient for almost all applications\n",
    "\n",
    "#If you want to use a different cosmology, you can specify it by the following in the get_cv call\n",
    "# for example OmegaM = 0.308, OmegaL = 0.692, sig8 = 0.82\n",
    "\n",
    "cv_df = cv.get_cv(side1, side2, zarray, name = name, acc=acc)"
   ]
  },
  {
   "cell_type": "code",
   "execution_count": 2,
   "id": "3e9cd5b8",
   "metadata": {
    "ExecuteTime": {
     "end_time": "2023-05-05T03:52:05.114536Z",
     "start_time": "2023-05-05T03:48:39.243704Z"
    }
   },
   "outputs": [
    {
     "name": "stdout",
     "output_type": "stream",
     "text": [
      "dz is given, zarr is redshift bin centers\n",
      "7.0 1 0.04407516506200147 0.641647178645449 0.641647178645449 0.641647178645449 0.641647178645449 0.7430590446892612 1.4002580950074286 1.4374185345128436 2.3674643777741915 3.1691559682378623\n",
      "7.5 1 0.04318674483289608 0.7280791376599799 0.7280791376599799 0.7280791376599799 0.7280791376599799 0.8437537320033495 1.6522555622506747 1.6857392935200686 2.802988786817139 3.688014617977402\n",
      "8.0 1 0.04234159537519055 0.8208045571519014 0.8208045571519014 0.8208045571519014 0.8208045571519014 0.951697675142553 1.9320642417241136 1.9598210985054678 3.287060603493291 4.254363322522695\n",
      "8.5 1 0.04155743065471175 0.9202931686348995 0.9202931686348995 0.9202931686348995 0.9202931686348995 1.0674313251113967 2.241894652580204 2.2616394914726503 3.8235587985388375 4.871653136170237\n",
      "Saving dataframes of values to dfs/JWST_rolling\n",
      "  zmid dz     cv_dm     cv_70     cv_75     cv_80     cv_85     cv_90  \\\n",
      "0  7.0  1  0.044075  0.641647  0.641647  0.641647  0.641647  0.743059   \n",
      "1  7.5  1  0.043187  0.728079  0.728079  0.728079  0.728079  0.843754   \n",
      "2  8.0  1  0.042342  0.820805  0.820805  0.820805  0.820805  0.951698   \n",
      "3  8.5  1  0.041557  0.920293  0.920293  0.920293  0.920293  1.067431   \n",
      "\n",
      "      cv_95    cv_100    cv_105    cv_110  \n",
      "0  1.400258  1.437419  2.367464  3.169156  \n",
      "1  1.652256  1.685739  2.802989  3.688015  \n",
      "2  1.932064  1.959821  3.287061  4.254363  \n",
      "3  2.241895  2.261639  3.823559  4.871653  \n"
     ]
    }
   ],
   "source": [
    "# Same calculation but with a fixed dz\n",
    "# when dz is given, the zarray goes from being bin edges to being bin centers\n",
    "\n",
    "#### these arguments are required ####\n",
    "side1 = 2.2/60. # /60 to convert from arcmin to degrees\n",
    "side2 = 2*2.2/60. # /60 to convert from arcmin to degrees\n",
    "zarray = np.array([7,7.5,8,8.5]) # redshift bin !!centers\n",
    "\n",
    "dz = 1\n",
    "\n",
    "name = 'JWST_rolling' # name of the survey, if provided, the output file will be saved as dfs/{name}.csv along with a meta file\n",
    "\n",
    "cv_df = cv.get_cv(side1, side2, zarray, dz= dz, name = name, acc=acc)"
   ]
  },
  {
   "cell_type": "code",
   "execution_count": null,
   "id": "f6b45515",
   "metadata": {},
   "outputs": [],
   "source": []
  }
 ],
 "metadata": {
  "hide_input": false,
  "kernelspec": {
   "display_name": "Python 3",
   "language": "python",
   "name": "python3"
  },
  "language_info": {
   "codemirror_mode": {
    "name": "ipython",
    "version": 3
   },
   "file_extension": ".py",
   "mimetype": "text/x-python",
   "name": "python",
   "nbconvert_exporter": "python",
   "pygments_lexer": "ipython3",
   "version": "3.8.8"
  }
 },
 "nbformat": 4,
 "nbformat_minor": 5
}
